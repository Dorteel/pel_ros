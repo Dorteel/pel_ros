{
 "cells": [
  {
   "cell_type": "code",
   "execution_count": 6,
   "metadata": {},
   "outputs": [
    {
     "name": "stdout",
     "output_type": "stream",
     "text": [
      "knowledge_graph.html\n"
     ]
    }
   ],
   "source": [
    "import os\n",
    "from pyvis.network import Network\n",
    "from owlready2 import get_ontology\n",
    "\n",
    "def load_ontology(owl_file_path):\n",
    "    # Load the ontology\n",
    "    onto = get_ontology(f\"file://{os.path.abspath(owl_file_path)}\").load()\n",
    "    return onto\n",
    "\n",
    "def create_interactive_graph(ontology):\n",
    "    net = Network(height=\"750px\", width=\"100%\", bgcolor=\"#222222\", font_color=\"white\")\n",
    "    \n",
    "    # Add classes to the graph\n",
    "    for cls in ontology.classes():\n",
    "        net.add_node(cls.name, label=cls.name, title=cls.iri, color='skyblue')\n",
    "    \n",
    "    # Add object properties to the graph\n",
    "    for prop in ontology.object_properties():\n",
    "        for domain in prop.domain:\n",
    "            for range in prop.range:\n",
    "                net.add_edge(domain.name, range.name, title=prop.name, color='gray')\n",
    "\n",
    "    return net\n",
    "\n",
    "owl_file_path = '/home/user/pel_ws/src/pel_ros/orka/owl/orka-core.owl'\n",
    "ontology = load_ontology(owl_file_path)\n",
    "net = create_interactive_graph(ontology)\n",
    "net.show(\"knowledge_graph.html\", notebook=False)\n"
   ]
  },
  {
   "cell_type": "code",
   "execution_count": 2,
   "metadata": {},
   "outputs": [
    {
     "name": "stdout",
     "output_type": "stream",
     "text": [
      "environ({'CHROME_DESKTOP': 'code-url-handler.desktop', 'DBUS_SESSION_BUS_ADDRESS': 'unix:path=/run/user/1000/bus', 'DESKTOP_SESSION': 'pop', 'DISPLAY': ':1', 'ELECTRON_NO_ATTACH_CONSOLE': '1', 'GDK_BACKEND': 'x11', 'GDMSESSION': 'pop', 'GIO_LAUNCHED_DESKTOP_FILE_PID': '4021839', 'GNOME_DESKTOP_SESSION_ID': 'this-is-deprecated', 'GNOME_SHELL_SESSION_MODE': 'pop', 'GPG_AGENT_INFO': '/run/user/1000/gnupg/S.gpg-agent:0:1', 'GTK_MODULES': 'gail:atk-bridge:appmenu-gtk-module', 'HOME': '/home/user', 'IM_CONFIG_PHASE': '1', 'INVOCATION_ID': 'f89c68cd185a433181765c58b4b0a105', 'JOURNAL_STREAM': '8:92686', 'LANG': 'en_GB.UTF-8', 'LANGUAGE': 'en_GB:en', 'LC_ADDRESS': 'en_GB.UTF-8', 'LC_IDENTIFICATION': 'en_GB.UTF-8', 'LC_MEASUREMENT': 'en_GB.UTF-8', 'LC_MONETARY': 'en_GB.UTF-8', 'LC_NAME': 'en_GB.UTF-8', 'LC_NUMERIC': 'en_GB.UTF-8', 'LC_PAPER': 'en_GB.UTF-8', 'LC_TELEPHONE': 'en_GB.UTF-8', 'LC_TIME': 'en_GB.UTF-8', 'LOGNAME': 'user', 'MANAGERPID': '8678', 'ORIGINAL_XDG_CURRENT_DESKTOP': 'pop:GNOME', 'PAPERSIZE': 'a4', 'PATH': '/home/user/pel_ws/.venv/bin:/home/user/.local/bin:/usr/local/sbin:/usr/local/bin:/usr/sbin:/usr/bin:/sbin:/bin:/usr/games:/usr/local/games:/snap/bin', 'PWD': '/home/user', 'QT_ACCESSIBILITY': '1', 'QT_IM_MODULE': 'ibus', 'SESSION_MANAGER': 'local/dorteel:@/tmp/.ICE-unix/8842,unix/dorteel:/tmp/.ICE-unix/8842', 'SHELL': '/bin/bash', 'SHLVL': '0', 'SSH_AGENT_PID': '8802', 'SSH_AUTH_SOCK': '/tmp/ssh-RhnDzFIN7fR8/agent.8725', 'USER': 'user', 'USERNAME': 'user', 'VSCODE_AMD_ENTRYPOINT': 'vs/workbench/api/node/extensionHostProcess', 'VSCODE_CLI': '1', 'VSCODE_CODE_CACHE_PATH': '/home/user/.config/Code/CachedData/dc96b837cf6bb4af9cd736aa3af08cf8279f7685', 'VSCODE_CRASH_REPORTER_PROCESS_TYPE': 'extensionHost', 'VSCODE_CWD': '/home/user', 'VSCODE_HANDLES_UNCAUGHT_ERRORS': 'true', 'VSCODE_IPC_HOOK': '/run/user/1000/vscode-8130fda1-1.89-main.sock', 'VSCODE_NLS_CONFIG': '{\"locale\":\"en-gb\",\"osLocale\":\"en-gb\",\"availableLanguages\":{},\"_languagePackSupport\":true}', 'VSCODE_PID': '4021858', 'WINDOWPATH': '2', 'XAUTHORITY': '/run/user/1000/gdm/Xauthority', 'XDG_CONFIG_DIRS': '/etc/xdg/xdg-pop:/etc/xdg', 'XDG_CURRENT_DESKTOP': 'Unity', 'XDG_DATA_DIRS': '/usr/share/pop:/home/user/.local/share/flatpak/exports/share:/var/lib/flatpak/exports/share:/usr/local/share/:/usr/share/:/var/lib/snapd/desktop', 'XDG_MENU_PREFIX': 'gnome-', 'XDG_RUNTIME_DIR': '/run/user/1000', 'XDG_SESSION_CLASS': 'user', 'XDG_SESSION_DESKTOP': 'pop', 'XDG_SESSION_TYPE': 'x11', 'XMODIFIERS': '@im=ibus', '_': '/home/user/pel_ws/.venv/bin/python', 'ELECTRON_RUN_AS_NODE': '1', 'APPLICATION_INSIGHTS_NO_DIAGNOSTIC_CHANNEL': '1', 'VSCODE_L10N_BUNDLE_LOCATION': '', 'PYTHONUNBUFFERED': '1', 'VIRTUAL_ENV': '/home/user/pel_ws/.venv', 'PYTHONIOENCODING': 'utf-8', 'PS1': '(.venv) ', 'PYDEVD_IPYTHON_COMPATIBLE_DEBUGGING': '1', 'PYTHON_FROZEN_MODULES': 'on', 'PYDEVD_USE_FRAME_EVAL': 'NO', 'TERM': 'xterm-color', 'CLICOLOR': '1', 'FORCE_COLOR': '1', 'CLICOLOR_FORCE': '1', 'PAGER': 'cat', 'GIT_PAGER': 'cat', 'MPLBACKEND': 'module://matplotlib_inline.backend_inline'})\n"
     ]
    }
   ],
   "source": [
    "print(os.environ)"
   ]
  },
  {
   "cell_type": "code",
   "execution_count": 3,
   "metadata": {},
   "outputs": [
    {
     "name": "stdout",
     "output_type": "stream",
     "text": [
      "/home/user/pel_ws/.venv/lib/python3.8/site-packages/pyvis/network.py\n"
     ]
    }
   ],
   "source": [
    "import pyvis.network as net\n",
    "print(net.__file__)"
   ]
  },
  {
   "cell_type": "code",
   "execution_count": 2,
   "metadata": {},
   "outputs": [],
   "source": [
    "from rdflib.namespace import SOSA, SSN\n",
    "from rdflib import Graph\n",
    "\n",
    "g = Graph()\n",
    "g.bind(\"sosa\", SOSA)  # bind an RDFLib-provided namespace to a prefix\n",
    "g.bind(\"ssn\", SSN)      # bind a user-declared namespace to a prefix\n",
    "\n"
   ]
  },
  {
   "cell_type": "code",
   "execution_count": 10,
   "metadata": {},
   "outputs": [
    {
     "name": "stdout",
     "output_type": "stream",
     "text": [
      "Subclass: orange (ID: http://www.wikidata.org/entity/Q13191), Count: 12\n",
      "Subclass: blood orange (ID: http://www.wikidata.org/entity/Q303669), Count: 1\n",
      "Subclass: Navel orange (ID: http://www.wikidata.org/entity/Q3621268), Count: 1\n"
     ]
    }
   ],
   "source": [
    "from SPARQLWrapper import SPARQLWrapper, JSON\n",
    "\n",
    "def get_top_k_subclasses_by_links(entity_id, k):\n",
    "    sparql = SPARQLWrapper(\"https://query.wikidata.org/sparql\")\n",
    "    \n",
    "    query = f\"\"\"\n",
    "    SELECT ?subclass ?subclassLabel (COUNT(?item) AS ?count) WHERE {{\n",
    "      ?item wdt:P279 ?subclass.\n",
    "      ?subclass wdt:P279* wd:{entity_id}.\n",
    "      SERVICE wikibase:label {{ bd:serviceParam wikibase:language \"en\". }}\n",
    "    }} GROUP BY ?subclass ?subclassLabel ORDER BY DESC(?count) LIMIT {k}\n",
    "    \"\"\"\n",
    "    \n",
    "    sparql.setQuery(query)\n",
    "    sparql.setReturnFormat(JSON)\n",
    "    results = sparql.query().convert()\n",
    "    \n",
    "    subclasses = []\n",
    "    for result in results[\"results\"][\"bindings\"]:\n",
    "        subclasses.append({\n",
    "            \"subclass\": result[\"subclass\"][\"value\"],\n",
    "            \"subclassLabel\": result[\"subclassLabel\"][\"value\"],\n",
    "            \"count\": int(result[\"count\"][\"value\"])\n",
    "        })\n",
    "    \n",
    "    return subclasses\n",
    "\n",
    "# Example usage\n",
    "entity_id = \"Q13191\"  # Example entity ID for \"animal\"\n",
    "k = 10\n",
    "top_k_subclasses = get_top_k_subclasses_by_links(entity_id, k)\n",
    "for subclass in top_k_subclasses:\n",
    "    print(f\"Subclass: {subclass['subclassLabel']} (ID: {subclass['subclass']}), Count: {subclass['count']}\")\n"
   ]
  },
  {
   "cell_type": "code",
   "execution_count": 12,
   "metadata": {},
   "outputs": [
    {
     "name": "stdout",
     "output_type": "stream",
     "text": [
      "Subclass: orange (ID: http://www.wikidata.org/entity/Q13191), Count: 4\n",
      "Subclass: blood orange (ID: http://www.wikidata.org/entity/Q303669), Count: 1\n",
      "Subclass: arancia del Gargano (ID: http://www.wikidata.org/entity/Q3621265), Count: 1\n",
      "Subclass: Arancia di Ribera (ID: http://www.wikidata.org/entity/Q3621267), Count: 1\n",
      "Subclass: Navel orange (ID: http://www.wikidata.org/entity/Q3621268), Count: 1\n",
      "Subclass: Larinġ t'Għawdex (ID: http://www.wikidata.org/entity/Q6703217), Count: 1\n",
      "Subclass: Q10379668 (ID: http://www.wikidata.org/entity/Q10379668), Count: 1\n",
      "Subclass: Q11121992 (ID: http://www.wikidata.org/entity/Q11121992), Count: 1\n",
      "Subclass: Maltaise (ID: http://www.wikidata.org/entity/Q16668217), Count: 1\n",
      "Subclass: Salustiana (ID: http://www.wikidata.org/entity/Q21086177), Count: 1\n",
      "Subclass: Midknight Valencia orange (ID: http://www.wikidata.org/entity/Q30635271), Count: 1\n",
      "Subclass: red orange of Sicily (ID: http://www.wikidata.org/entity/Q33126598), Count: 1\n",
      "Subclass: Chocolate navel orange (ID: http://www.wikidata.org/entity/Q110639963), Count: 1\n",
      "Subclass: Malta orange (ID: http://www.wikidata.org/entity/Q122927520), Count: 1\n",
      "Subclass: Q124802101 (ID: http://www.wikidata.org/entity/Q124802101), Count: 1\n"
     ]
    }
   ],
   "source": [
    "from SPARQLWrapper import SPARQLWrapper, JSON\n",
    "\n",
    "def get_top_k_subclasses_by_outgoing_links(entity_id, k):\n",
    "    sparql = SPARQLWrapper(\"https://query.wikidata.org/sparql\")\n",
    "    \n",
    "    query = f\"\"\"\n",
    "    SELECT ?subclass ?subclassLabel (COUNT(?link) AS ?count) WHERE {{\n",
    "      ?subclass wdt:P279* wd:{entity_id}.\n",
    "      ?subclass wdt:P279 ?link.\n",
    "      SERVICE wikibase:label {{ bd:serviceParam wikibase:language \"en\". }}\n",
    "    }} GROUP BY ?subclass ?subclassLabel ORDER BY DESC(?count) LIMIT {k}\n",
    "    \"\"\"\n",
    "    \n",
    "    sparql.setQuery(query)\n",
    "    sparql.setReturnFormat(JSON)\n",
    "    results = sparql.query().convert()\n",
    "    \n",
    "    subclasses = []\n",
    "    for result in results[\"results\"][\"bindings\"]:\n",
    "        subclasses.append({\n",
    "            \"subclass\": result[\"subclass\"][\"value\"],\n",
    "            \"subclassLabel\": result[\"subclassLabel\"][\"value\"],\n",
    "            \"count\": int(result[\"count\"][\"value\"])\n",
    "        })\n",
    "    \n",
    "    return subclasses\n",
    "\n",
    "# Example usage\n",
    "entity_id = \"Q13191\" \n",
    "k = 10\n",
    "top_k_subclasses = get_top_k_subclasses_by_outgoing_links(entity_id, k)\n",
    "for subclass in top_k_subclasses:\n",
    "    print(f\"Subclass: {subclass['subclassLabel']} (ID: {subclass['subclass']}), Count: {subclass['count']}\")\n"
   ]
  },
  {
   "cell_type": "code",
   "execution_count": 13,
   "metadata": {},
   "outputs": [
    {
     "name": "stdout",
     "output_type": "stream",
     "text": [
      "Subclass: orange (ID: http://www.wikidata.org/entity/Q13191), Count: 12\n",
      "Subclass: blood orange (ID: http://www.wikidata.org/entity/Q303669), Count: 1\n",
      "Subclass: Navel orange (ID: http://www.wikidata.org/entity/Q3621268), Count: 1\n"
     ]
    }
   ],
   "source": [
    "from SPARQLWrapper import SPARQLWrapper, JSON\n",
    "\n",
    "def get_top_k_subclasses_by_incoming_links(entity_id, k):\n",
    "    sparql = SPARQLWrapper(\"https://query.wikidata.org/sparql\")\n",
    "    \n",
    "    query = f\"\"\"\n",
    "    SELECT ?subclass ?subclassLabel (COUNT(?link) AS ?count) WHERE {{\n",
    "      ?subclass wdt:P279* wd:{entity_id}.\n",
    "      ?link ?anylink ?subclass.\n",
    "      SERVICE wikibase:label {{ bd:serviceParam wikibase:language \"en\". }}\n",
    "    }} GROUP BY ?subclass ?subclassLabel ORDER BY DESC(?count) LIMIT {k}\n",
    "    \"\"\"\n",
    "    \n",
    "    sparql.setQuery(query)\n",
    "    sparql.setReturnFormat(JSON)\n",
    "    results = sparql.query().convert()\n",
    "    \n",
    "    subclasses = []\n",
    "    for result in results[\"results\"][\"bindings\"]:\n",
    "        subclasses.append({\n",
    "            \"subclass\": result[\"subclass\"][\"value\"],\n",
    "            \"subclassLabel\": result[\"subclassLabel\"][\"value\"],\n",
    "            \"count\": int(result[\"count\"][\"value\"])\n",
    "        })\n",
    "    \n",
    "    return subclasses\n",
    "\n",
    "# Example usage\n",
    "entity_id = \"Q13191\"  # Example entity ID for \"animal\"\n",
    "k = 10\n",
    "top_k_subclasses = get_top_k_subclasses_by_incoming_links(entity_id, k)\n",
    "for subclass in top_k_subclasses:\n",
    "    print(f\"Subclass: {subclass['subclassLabel']} (ID: {subclass['subclass']}), Count: {subclass['count']}\")\n"
   ]
  },
  {
   "cell_type": "code",
   "execution_count": null,
   "metadata": {},
   "outputs": [],
   "source": []
  }
 ],
 "metadata": {
  "kernelspec": {
   "display_name": ".venv",
   "language": "python",
   "name": "python3"
  },
  "language_info": {
   "codemirror_mode": {
    "name": "ipython",
    "version": 3
   },
   "file_extension": ".py",
   "mimetype": "text/x-python",
   "name": "python",
   "nbconvert_exporter": "python",
   "pygments_lexer": "ipython3",
   "version": "3.8.10"
  }
 },
 "nbformat": 4,
 "nbformat_minor": 2
}
