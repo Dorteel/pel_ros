{
 "cells": [
  {
   "cell_type": "code",
   "execution_count": 6,
   "metadata": {},
   "outputs": [
    {
     "name": "stdout",
     "output_type": "stream",
     "text": [
      "knowledge_graph.html\n"
     ]
    }
   ],
   "source": [
    "import os\n",
    "from pyvis.network import Network\n",
    "from owlready2 import get_ontology\n",
    "\n",
    "def load_ontology(owl_file_path):\n",
    "    # Load the ontology\n",
    "    onto = get_ontology(f\"file://{os.path.abspath(owl_file_path)}\").load()\n",
    "    return onto\n",
    "\n",
    "def create_interactive_graph(ontology):\n",
    "    net = Network(height=\"750px\", width=\"100%\", bgcolor=\"#222222\", font_color=\"white\")\n",
    "    \n",
    "    # Add classes to the graph\n",
    "    for cls in ontology.classes():\n",
    "        net.add_node(cls.name, label=cls.name, title=cls.iri, color='skyblue')\n",
    "    \n",
    "    # Add object properties to the graph\n",
    "    for prop in ontology.object_properties():\n",
    "        for domain in prop.domain:\n",
    "            for range in prop.range:\n",
    "                net.add_edge(domain.name, range.name, title=prop.name, color='gray')\n",
    "\n",
    "    return net\n",
    "\n",
    "owl_file_path = '/home/user/pel_ws/src/pel_ros/orka/owl/orka-core.owl'\n",
    "ontology = load_ontology(owl_file_path)\n",
    "net = create_interactive_graph(ontology)\n",
    "net.show(\"knowledge_graph.html\", notebook=False)\n"
   ]
  },
  {
   "cell_type": "code",
   "execution_count": 2,
   "metadata": {},
   "outputs": [
    {
     "name": "stdout",
     "output_type": "stream",
     "text": [
      "environ({'CHROME_DESKTOP': 'code-url-handler.desktop', 'DBUS_SESSION_BUS_ADDRESS': 'unix:path=/run/user/1000/bus', 'DESKTOP_SESSION': 'pop', 'DISPLAY': ':1', 'ELECTRON_NO_ATTACH_CONSOLE': '1', 'GDK_BACKEND': 'x11', 'GDMSESSION': 'pop', 'GIO_LAUNCHED_DESKTOP_FILE_PID': '4021839', 'GNOME_DESKTOP_SESSION_ID': 'this-is-deprecated', 'GNOME_SHELL_SESSION_MODE': 'pop', 'GPG_AGENT_INFO': '/run/user/1000/gnupg/S.gpg-agent:0:1', 'GTK_MODULES': 'gail:atk-bridge:appmenu-gtk-module', 'HOME': '/home/user', 'IM_CONFIG_PHASE': '1', 'INVOCATION_ID': 'f89c68cd185a433181765c58b4b0a105', 'JOURNAL_STREAM': '8:92686', 'LANG': 'en_GB.UTF-8', 'LANGUAGE': 'en_GB:en', 'LC_ADDRESS': 'en_GB.UTF-8', 'LC_IDENTIFICATION': 'en_GB.UTF-8', 'LC_MEASUREMENT': 'en_GB.UTF-8', 'LC_MONETARY': 'en_GB.UTF-8', 'LC_NAME': 'en_GB.UTF-8', 'LC_NUMERIC': 'en_GB.UTF-8', 'LC_PAPER': 'en_GB.UTF-8', 'LC_TELEPHONE': 'en_GB.UTF-8', 'LC_TIME': 'en_GB.UTF-8', 'LOGNAME': 'user', 'MANAGERPID': '8678', 'ORIGINAL_XDG_CURRENT_DESKTOP': 'pop:GNOME', 'PAPERSIZE': 'a4', 'PATH': '/home/user/pel_ws/.venv/bin:/home/user/.local/bin:/usr/local/sbin:/usr/local/bin:/usr/sbin:/usr/bin:/sbin:/bin:/usr/games:/usr/local/games:/snap/bin', 'PWD': '/home/user', 'QT_ACCESSIBILITY': '1', 'QT_IM_MODULE': 'ibus', 'SESSION_MANAGER': 'local/dorteel:@/tmp/.ICE-unix/8842,unix/dorteel:/tmp/.ICE-unix/8842', 'SHELL': '/bin/bash', 'SHLVL': '0', 'SSH_AGENT_PID': '8802', 'SSH_AUTH_SOCK': '/tmp/ssh-RhnDzFIN7fR8/agent.8725', 'USER': 'user', 'USERNAME': 'user', 'VSCODE_AMD_ENTRYPOINT': 'vs/workbench/api/node/extensionHostProcess', 'VSCODE_CLI': '1', 'VSCODE_CODE_CACHE_PATH': '/home/user/.config/Code/CachedData/dc96b837cf6bb4af9cd736aa3af08cf8279f7685', 'VSCODE_CRASH_REPORTER_PROCESS_TYPE': 'extensionHost', 'VSCODE_CWD': '/home/user', 'VSCODE_HANDLES_UNCAUGHT_ERRORS': 'true', 'VSCODE_IPC_HOOK': '/run/user/1000/vscode-8130fda1-1.89-main.sock', 'VSCODE_NLS_CONFIG': '{\"locale\":\"en-gb\",\"osLocale\":\"en-gb\",\"availableLanguages\":{},\"_languagePackSupport\":true}', 'VSCODE_PID': '4021858', 'WINDOWPATH': '2', 'XAUTHORITY': '/run/user/1000/gdm/Xauthority', 'XDG_CONFIG_DIRS': '/etc/xdg/xdg-pop:/etc/xdg', 'XDG_CURRENT_DESKTOP': 'Unity', 'XDG_DATA_DIRS': '/usr/share/pop:/home/user/.local/share/flatpak/exports/share:/var/lib/flatpak/exports/share:/usr/local/share/:/usr/share/:/var/lib/snapd/desktop', 'XDG_MENU_PREFIX': 'gnome-', 'XDG_RUNTIME_DIR': '/run/user/1000', 'XDG_SESSION_CLASS': 'user', 'XDG_SESSION_DESKTOP': 'pop', 'XDG_SESSION_TYPE': 'x11', 'XMODIFIERS': '@im=ibus', '_': '/home/user/pel_ws/.venv/bin/python', 'ELECTRON_RUN_AS_NODE': '1', 'APPLICATION_INSIGHTS_NO_DIAGNOSTIC_CHANNEL': '1', 'VSCODE_L10N_BUNDLE_LOCATION': '', 'PYTHONUNBUFFERED': '1', 'VIRTUAL_ENV': '/home/user/pel_ws/.venv', 'PYTHONIOENCODING': 'utf-8', 'PS1': '(.venv) ', 'PYDEVD_IPYTHON_COMPATIBLE_DEBUGGING': '1', 'PYTHON_FROZEN_MODULES': 'on', 'PYDEVD_USE_FRAME_EVAL': 'NO', 'TERM': 'xterm-color', 'CLICOLOR': '1', 'FORCE_COLOR': '1', 'CLICOLOR_FORCE': '1', 'PAGER': 'cat', 'GIT_PAGER': 'cat', 'MPLBACKEND': 'module://matplotlib_inline.backend_inline'})\n"
     ]
    }
   ],
   "source": [
    "print(os.environ)"
   ]
  },
  {
   "cell_type": "code",
   "execution_count": 3,
   "metadata": {},
   "outputs": [
    {
     "name": "stdout",
     "output_type": "stream",
     "text": [
      "/home/user/pel_ws/.venv/lib/python3.8/site-packages/pyvis/network.py\n"
     ]
    }
   ],
   "source": [
    "import pyvis.network as net\n",
    "print(net.__file__)"
   ]
  },
  {
   "cell_type": "code",
   "execution_count": 1,
   "metadata": {},
   "outputs": [],
   "source": [
    "from rdflib.namespace import SOSA, SSN\n",
    "from rdflib import Graph\n",
    "\n",
    "g = Graph()\n",
    "g.bind(\"sosa\", SOSA)  # bind an RDFLib-provided namespace to a prefix\n",
    "g.bind(\"ssn\", SSN)      # bind a user-declared namespace to a prefix\n",
    "\n",
    "\n"
   ]
  },
  {
   "cell_type": "code",
   "execution_count": null,
   "metadata": {},
   "outputs": [],
   "source": []
  }
 ],
 "metadata": {
  "kernelspec": {
   "display_name": ".venv",
   "language": "python",
   "name": "python3"
  },
  "language_info": {
   "codemirror_mode": {
    "name": "ipython",
    "version": 3
   },
   "file_extension": ".py",
   "mimetype": "text/x-python",
   "name": "python",
   "nbconvert_exporter": "python",
   "pygments_lexer": "ipython3",
   "version": "3.8.10"
  }
 },
 "nbformat": 4,
 "nbformat_minor": 2
}
